{
  "nbformat": 4,
  "nbformat_minor": 0,
  "metadata": {
    "colab": {
      "name": "NOMA_CNN_2_bit.ipynb",
      "provenance": [],
      "collapsed_sections": [],
      "authorship_tag": "ABX9TyNN6HsJ4hFcdw+PPmc/Lq3O",
      "include_colab_link": true
    },
    "kernelspec": {
      "name": "python3",
      "display_name": "Python 3"
    },
    "language_info": {
      "name": "python"
    }
  },
  "cells": [
    {
      "cell_type": "markdown",
      "metadata": {
        "id": "view-in-github",
        "colab_type": "text"
      },
      "source": [
        "<a href=\"https://colab.research.google.com/github/dSatasiya/WLC-With-Machine-Learning/blob/Project-sem-8/NOMA_CNN_2_bit.ipynb\" target=\"_parent\"><img src=\"https://colab.research.google.com/assets/colab-badge.svg\" alt=\"Open In Colab\"/></a>"
      ]
    },
    {
      "cell_type": "code",
      "execution_count": null,
      "metadata": {
        "id": "qjnbJ6AmAd1W"
      },
      "outputs": [],
      "source": [
        "import torch\n",
        "from torch import nn\n",
        "import torch.optim as optim\n",
        "import tensorflow as tf\n",
        "import numpy as np\n",
        "import math\n",
        "from matplotlib import pyplot as plt"
      ]
    },
    {
      "cell_type": "code",
      "source": [
        "np.random.seed(5)\n",
        "N = 2\n",
        "M = 2\n",
        "n_iteration = 1\n",
        "batch_size = 1\n",
        "\n",
        "n_epoch = 10\n",
        "modulation_order = 2\n",
        "\n",
        "# -------------- Modification ----------------\n",
        "# Considering the case of three dynamic users U1, U2 and U3.\n",
        "# Where U1 is farthest user and U3 is located as nearest user \n",
        "\n",
        "pi = 3.14\n",
        "f_c = 5.9*(pow(10, 9))   # carrier frequency \n",
        "C = 3*(pow(10, 8)) # m/s   \n",
        "v = 15.277   # speed of vehicles in m/s\n",
        "R_s = 10  # Transmission symbol rate in Mbps\n",
        "# J_0 = # zeroth order bassel function of the first kind\n",
        "rho_n = ((2*pi*f_c*v)/(R_s*C)) # is correlation parameter for time adjacent channel gain\n",
        "print(rho_n)\n",
        "\n",
        " # Questions to be asked are :\n",
        " # 1) how to take J_0 which is bassel function ? \n",
        " # 2) what about en(l) ?\n",
        " # 3) what about t ?\n",
        " \n",
        "# e_n_of_l is time varying component \n",
        "# for the sake of simplicity let's say \n",
        "e_n_of_l = 1\n",
        "\n",
        "dn =  2 # Distance between BS and nth vehicles\n",
        "Hdn = 3 # Nakagami-m channel between BS and nth vehicle\n",
        "epsilon = 3  # path loss \n",
        "def channel_generation(t):  # final channel formula\n",
        "  channel_t = (Hdn)/(math.sqrt(1+ pow(dn, epsilon)))\n",
        "  print(channel_t)\n",
        "  part1 = pow(rho_n, (t-1))*channel_t \n",
        "  # print(part1)\n",
        "  sqr = -(1 - pow(rho_n, 2))\n",
        "  # print(sqr)\n",
        "  part2 = math.sqrt(sqr)\n",
        "  # print(part2)\n",
        "  l = 1\n",
        "  sum1 = 0\n",
        "  for l in range(1, (t-1)+1):\n",
        "    sum1 = sum1 + rho_n*(t - l - 1)* e_n_of_l\n",
        "    \n",
        "  channel = part1 + part2*sum1\n",
        "\n",
        "  return channel\n",
        "print(channel_generation(1))\n",
        "\n",
        "# power coefficients for all users\n",
        "Alpha_1 = 0.6\n",
        "Alpha_2 = 0.27\n",
        "Alpha_3 = 0.13\n",
        "Ps = 1  # Transmission power \n",
        "# S_i = is Kx1 message signal vector of ith vehicle \n",
        "\n",
        "Alpha_values = [0.6, 0.27, 0.13]\n",
        "\n",
        "# ----------------- Generation of final equation -----------------\n",
        "def final_eqn():\n",
        "  channel = channel_generation(1)\n",
        "  no_of_users = 2\n",
        "  sum2 = np.zeros(2)\n",
        "  print(sum2)\n",
        "  for i in range(1, no_of_users+1):\n",
        "    SPC = generate(2, 2, 1)\n",
        "    sum2 = sum2 + (math.sqrt(Ps*Alpha_values[i]))* SPC\n",
        "\n",
        "  final_eq = channel*sum2\n",
        "  return final_eq\n",
        "print(final_eqn())\n",
        "\n",
        "SNR_db = np.array(list(range(2, 11, 2)))\n",
        "test_size = 100\n",
        "# print(SNR_db)\n",
        "\n",
        "ERROR_user1 = np.zeros([len(SNR_db), n_iteration])\n",
        "ERROR_user2 = np.zeros([len(SNR_db), n_iteration])\n",
        "# print(ERROR_user1)\n",
        "# print(ERROR_user2)"
      ],
      "metadata": {
        "colab": {
          "base_uri": "https://localhost:8080/",
          "height": 442
        },
        "id": "oKXV6I-LBUe6",
        "outputId": "826e8273-dcc0-4907-b671-739beabb17e8"
      },
      "execution_count": null,
      "outputs": [
        {
          "output_type": "stream",
          "name": "stdout",
          "text": [
            "188.68113466666668\n",
            "1.0\n",
            "1.0\n",
            "1.0\n",
            "[0. 0.]\n"
          ]
        },
        {
          "output_type": "error",
          "ename": "TypeError",
          "evalue": "ignored",
          "traceback": [
            "\u001b[0;31m---------------------------------------------------------------------------\u001b[0m",
            "\u001b[0;31mTypeError\u001b[0m                                 Traceback (most recent call last)",
            "\u001b[0;32m<ipython-input-18-b80674031572>\u001b[0m in \u001b[0;36m<module>\u001b[0;34m()\u001b[0m\n\u001b[1;32m     73\u001b[0m   \u001b[0mfinal_eq\u001b[0m \u001b[0;34m=\u001b[0m \u001b[0mchannel\u001b[0m\u001b[0;34m*\u001b[0m\u001b[0msum2\u001b[0m\u001b[0;34m\u001b[0m\u001b[0;34m\u001b[0m\u001b[0m\n\u001b[1;32m     74\u001b[0m   \u001b[0;32mreturn\u001b[0m \u001b[0mfinal_eq\u001b[0m\u001b[0;34m\u001b[0m\u001b[0;34m\u001b[0m\u001b[0m\n\u001b[0;32m---> 75\u001b[0;31m \u001b[0mprint\u001b[0m\u001b[0;34m(\u001b[0m\u001b[0mfinal_eqn\u001b[0m\u001b[0;34m(\u001b[0m\u001b[0;34m)\u001b[0m\u001b[0;34m)\u001b[0m\u001b[0;34m\u001b[0m\u001b[0;34m\u001b[0m\u001b[0m\n\u001b[0m\u001b[1;32m     76\u001b[0m \u001b[0;34m\u001b[0m\u001b[0m\n\u001b[1;32m     77\u001b[0m \u001b[0mSNR_db\u001b[0m \u001b[0;34m=\u001b[0m \u001b[0mnp\u001b[0m\u001b[0;34m.\u001b[0m\u001b[0marray\u001b[0m\u001b[0;34m(\u001b[0m\u001b[0mlist\u001b[0m\u001b[0;34m(\u001b[0m\u001b[0mrange\u001b[0m\u001b[0;34m(\u001b[0m\u001b[0;36m2\u001b[0m\u001b[0;34m,\u001b[0m \u001b[0;36m11\u001b[0m\u001b[0;34m,\u001b[0m \u001b[0;36m2\u001b[0m\u001b[0;34m)\u001b[0m\u001b[0;34m)\u001b[0m\u001b[0;34m)\u001b[0m\u001b[0;34m\u001b[0m\u001b[0;34m\u001b[0m\u001b[0m\n",
            "\u001b[0;32m<ipython-input-18-b80674031572>\u001b[0m in \u001b[0;36mfinal_eqn\u001b[0;34m()\u001b[0m\n\u001b[1;32m     69\u001b[0m   \u001b[0;32mfor\u001b[0m \u001b[0mi\u001b[0m \u001b[0;32min\u001b[0m \u001b[0mrange\u001b[0m\u001b[0;34m(\u001b[0m\u001b[0;36m1\u001b[0m\u001b[0;34m,\u001b[0m \u001b[0mno_of_users\u001b[0m\u001b[0;34m+\u001b[0m\u001b[0;36m1\u001b[0m\u001b[0;34m)\u001b[0m\u001b[0;34m:\u001b[0m\u001b[0;34m\u001b[0m\u001b[0;34m\u001b[0m\u001b[0m\n\u001b[1;32m     70\u001b[0m     \u001b[0mSPC\u001b[0m \u001b[0;34m=\u001b[0m \u001b[0mgenerate\u001b[0m\u001b[0;34m(\u001b[0m\u001b[0;36m2\u001b[0m\u001b[0;34m,\u001b[0m \u001b[0;36m2\u001b[0m\u001b[0;34m,\u001b[0m \u001b[0;36m1\u001b[0m\u001b[0;34m)\u001b[0m\u001b[0;34m\u001b[0m\u001b[0;34m\u001b[0m\u001b[0m\n\u001b[0;32m---> 71\u001b[0;31m     \u001b[0msum2\u001b[0m \u001b[0;34m=\u001b[0m \u001b[0msum2\u001b[0m \u001b[0;34m+\u001b[0m \u001b[0;34m(\u001b[0m\u001b[0mmath\u001b[0m\u001b[0;34m.\u001b[0m\u001b[0msqrt\u001b[0m\u001b[0;34m(\u001b[0m\u001b[0mPs\u001b[0m\u001b[0;34m*\u001b[0m\u001b[0mAlpha_values\u001b[0m\u001b[0;34m[\u001b[0m\u001b[0mi\u001b[0m\u001b[0;34m]\u001b[0m\u001b[0;34m)\u001b[0m\u001b[0;34m)\u001b[0m\u001b[0;34m*\u001b[0m \u001b[0mSPC\u001b[0m\u001b[0;34m\u001b[0m\u001b[0;34m\u001b[0m\u001b[0m\n\u001b[0m\u001b[1;32m     72\u001b[0m \u001b[0;34m\u001b[0m\u001b[0m\n\u001b[1;32m     73\u001b[0m   \u001b[0mfinal_eq\u001b[0m \u001b[0;34m=\u001b[0m \u001b[0mchannel\u001b[0m\u001b[0;34m*\u001b[0m\u001b[0msum2\u001b[0m\u001b[0;34m\u001b[0m\u001b[0;34m\u001b[0m\u001b[0m\n",
            "\u001b[0;31mTypeError\u001b[0m: can't multiply sequence by non-int of type 'float'"
          ]
        }
      ]
    },
    {
      "cell_type": "code",
      "source": [
        "# ---------------------------------- First Function ----------------------------\n",
        "def generate_data(M, batch_size):\n",
        "  input_ = [[0 for _ in range(pow(2, M))] for _ in range(M)]\n",
        "  label = [[0 for _ in range(pow(2, M))] for _ in range(2 * M)]\n",
        "\n",
        "  for i in range(1 << M):\n",
        "      for j in range(M):\n",
        "          if i & (1 << j):\n",
        "              input_[M - j - 1][i] = 1\n",
        "  for i in range(1 << M):\n",
        "      for j in range(M):\n",
        "          if input_[j][i] == 1:\n",
        "              label[2 * j][i] = 1\n",
        "              label[2 * j + 1][i] = 0\n",
        "          else:\n",
        "              label[2 * j][i] = 0\n",
        "              label[2 * j + 1][i] = 1\n",
        "\n",
        "  input_ = np.tile(np.array(input_), batch_size)\n",
        "  label = np.tile(np.eye(1 << M), batch_size)\n",
        "  return input_, label\n",
        "generate_data(2, 1)\n"
      ],
      "metadata": {
        "id": "FF6dl-AaB0-5",
        "colab": {
          "base_uri": "https://localhost:8080/"
        },
        "outputId": "f1d46c35-677e-4f23-ed66-99b0ee3579a7"
      },
      "execution_count": null,
      "outputs": [
        {
          "output_type": "execute_result",
          "data": {
            "text/plain": [
              "(array([[0, 0, 1, 1],\n",
              "        [0, 1, 0, 1]]), array([[1., 0., 0., 0.],\n",
              "        [0., 1., 0., 0.],\n",
              "        [0., 0., 1., 0.],\n",
              "        [0., 0., 0., 1.]]))"
            ]
          },
          "metadata": {},
          "execution_count": 12
        }
      ]
    },
    {
      "cell_type": "code",
      "source": [
        "# ---------------------------------- Second Function ----------------------------\n",
        "def generate(M, N, batch_size):\n",
        "  data, label = generate_data(M, batch_size)\n",
        "\n",
        "  ran1 = np.random.permutation(batch_size * pow(2, M))  # Suffling Dataset\n",
        "  ran2 = np.random.permutation(batch_size * pow(2, M))\n",
        "\n",
        "  symbol1 = 2 * data[:, ran1] - 1       # BPSK is applied here\n",
        "  symbol2 = 2 * data[:, ran2] - 1\n",
        "\n",
        "  SPC = math.sqrt(0.8) * symbol1 + math.sqrt(0.2) * symbol2  # Superposition Coding\n",
        "\n",
        "  label1 = np.transpose(label[:, ran1].astype('float32'))\n",
        "  label2 = np.transpose(label[:, ran2].astype('float32'))\n",
        "\n",
        "  return SPC, label1, label2\n",
        "\n",
        "generate(2, 2, 1)"
      ],
      "metadata": {
        "colab": {
          "base_uri": "https://localhost:8080/"
        },
        "id": "3GWdPdq_l_4N",
        "outputId": "48d266b2-cdc2-4b9a-c169-cd6a072d2cc8"
      },
      "execution_count": null,
      "outputs": [
        {
          "output_type": "execute_result",
          "data": {
            "text/plain": [
              "(array([[-0.4472136 , -1.34164079,  1.34164079,  0.4472136 ],\n",
              "        [-0.4472136 ,  0.4472136 , -1.34164079,  1.34164079]]),\n",
              " array([[1., 0., 0., 0.],\n",
              "        [0., 1., 0., 0.],\n",
              "        [0., 0., 1., 0.],\n",
              "        [0., 0., 0., 1.]], dtype=float32),\n",
              " array([[0., 0., 0., 1.],\n",
              "        [1., 0., 0., 0.],\n",
              "        [0., 0., 1., 0.],\n",
              "        [0., 1., 0., 0.]], dtype=float32))"
            ]
          },
          "metadata": {},
          "execution_count": 13
        }
      ]
    },
    {
      "cell_type": "code",
      "source": [
        "# ---------------------------------- Third Function ----------------------------\n",
        "def generate_input(H1_real, H1_image, SPC, N, batch_size, sigma):\n",
        "  N_real, N_image = generate_channel(N, batch_size * pow(2, N), 0)\n",
        "\n",
        "  input1_real = np.matmul(H1_real, SPC) + sigma * N_real\n",
        "  input1_img = np.matmul(H1_image, SPC) + sigma * N_image\n",
        "\n",
        "  input1 = np.transpose(np.concatenate((input1_real, input1_img), axis=0))\n",
        "\n",
        "  return input1_real, input1_img"
      ],
      "metadata": {
        "id": "61eZJonimg1g"
      },
      "execution_count": null,
      "outputs": []
    },
    {
      "cell_type": "code",
      "source": [
        "# ---------------------------------- Four Function ----------------------------\n",
        "def generate_channel(N, M, k):\n",
        "  h1 = np.random.randn(N, M) / math.sqrt(2)\n",
        "  h2 = np.random.randn(N, M) / math.sqrt(2)\n",
        "\n",
        "  if k == 0:\n",
        "      return h1, h2\n",
        "  else:\n",
        "      return 2 * h1, 2 * h2\n",
        "generate_channel(2, 2, 0)"
      ],
      "metadata": {
        "colab": {
          "base_uri": "https://localhost:8080/"
        },
        "id": "qboctluBmlCr",
        "outputId": "eae3db6f-f84b-489c-8663-827a2fdf47e6"
      },
      "execution_count": null,
      "outputs": [
        {
          "output_type": "execute_result",
          "data": {
            "text/plain": [
              "(array([[-0.01647824,  0.5952267 ],\n",
              "        [ 0.967029  ,  0.4063797 ]]), array([[-1.33343539,  0.12086249],\n",
              "        [-0.28503001,  1.15797821]]))"
            ]
          },
          "metadata": {},
          "execution_count": 15
        }
      ]
    },
    {
      "cell_type": "code",
      "source": [
        "def accuracy(output, label, M):\n",
        "\n",
        "    correct_prediction = tf.equal(tf.math.argmax(output, 1), tf.math.argmax(label, 1))     # The tensor has not been sliced here\n",
        "    acc = tf.reduce_mean(tf.cast(correct_prediction, tf.float32))                          # But directly tf.math,argmax function has been applied\n",
        "      \n",
        "    return acc"
      ],
      "metadata": {
        "id": "9OZLncbAnOC7"
      },
      "execution_count": null,
      "outputs": []
    },
    {
      "cell_type": "code",
      "source": [
        "net = nn.Sequential(\n",
        "    \n",
        "    nn.Conv2d(1, 2, kernel_size=1, stride=1, padding=1), nn.ReLU(),\n",
        "    nn.MaxPool2d(kernel_size=1, stride=1),                            # first convolution layer, then ReLU and the maxpooling will be performed\n",
        "\n",
        "    nn.Conv2d(2, 2, kernel_size=1, padding=1), nn.ReLU(),       # second convolutional layer \n",
        "    nn.MaxPool2d(kernel_size=1, stride=1),                     # CNN has basically two layers : convolutional and fully connected(dense) layers \n",
        "                                                               # here, in our case 2 convolutional layers are there and othe below fully connected layers\n",
        "                                                               # it will flatten the array into 1 dimension\n",
        "    nn.Flatten(),                                   \n",
        "\n",
        "    nn.BatchNorm1d(72),\n",
        "    nn.Linear(72, 100), nn.ReLU(), nn.BatchNorm1d(100),\n",
        "    nn.Linear(100, 100), nn.ReLU(), nn.BatchNorm1d(100),\n",
        "    nn.Linear(100, 100), nn.ReLU(), nn.BatchNorm1d(100),\n",
        "    nn.Linear(100, 100), nn.ReLU(), nn.BatchNorm1d(100),\n",
        "    nn.Linear(100, 4), nn.ReLU(), nn.BatchNorm1d(4)\n",
        ")\n",
        "\n",
        "loss = torch.nn.CrossEntropyLoss(reduction = 'mean')     #Cross Entropy Loss is used to find the loss (for logistic regression problem)\n",
        "\n",
        "device = torch.device('cuda' if torch.cuda.is_available() else 'cpu')\n",
        "net1 = net.to(device = device)\n",
        "net2 = net.to(device = device)\n",
        "print(net1) "
      ],
      "metadata": {
        "id": "Eot0rscUneTm",
        "colab": {
          "base_uri": "https://localhost:8080/"
        },
        "outputId": "8d3e2fba-bebf-49e7-b290-5c2414c7394d"
      },
      "execution_count": null,
      "outputs": [
        {
          "output_type": "stream",
          "name": "stdout",
          "text": [
            "Sequential(\n",
            "  (0): Conv2d(1, 2, kernel_size=(1, 1), stride=(1, 1), padding=(1, 1))\n",
            "  (1): ReLU()\n",
            "  (2): MaxPool2d(kernel_size=1, stride=1, padding=0, dilation=1, ceil_mode=False)\n",
            "  (3): Conv2d(2, 2, kernel_size=(1, 1), stride=(1, 1), padding=(1, 1))\n",
            "  (4): ReLU()\n",
            "  (5): MaxPool2d(kernel_size=1, stride=1, padding=0, dilation=1, ceil_mode=False)\n",
            "  (6): Flatten(start_dim=1, end_dim=-1)\n",
            "  (7): BatchNorm1d(72, eps=1e-05, momentum=0.1, affine=True, track_running_stats=True)\n",
            "  (8): Linear(in_features=72, out_features=100, bias=True)\n",
            "  (9): ReLU()\n",
            "  (10): BatchNorm1d(100, eps=1e-05, momentum=0.1, affine=True, track_running_stats=True)\n",
            "  (11): Linear(in_features=100, out_features=100, bias=True)\n",
            "  (12): ReLU()\n",
            "  (13): BatchNorm1d(100, eps=1e-05, momentum=0.1, affine=True, track_running_stats=True)\n",
            "  (14): Linear(in_features=100, out_features=100, bias=True)\n",
            "  (15): ReLU()\n",
            "  (16): BatchNorm1d(100, eps=1e-05, momentum=0.1, affine=True, track_running_stats=True)\n",
            "  (17): Linear(in_features=100, out_features=100, bias=True)\n",
            "  (18): ReLU()\n",
            "  (19): BatchNorm1d(100, eps=1e-05, momentum=0.1, affine=True, track_running_stats=True)\n",
            "  (20): Linear(in_features=100, out_features=4, bias=True)\n",
            "  (21): ReLU()\n",
            "  (22): BatchNorm1d(4, eps=1e-05, momentum=0.1, affine=True, track_running_stats=True)\n",
            ")\n"
          ]
        }
      ]
    },
    {
      "cell_type": "markdown",
      "source": [
        "input_feature in conv2d function means that there will be this much no. channel.\n",
        "in our case input_feature is = 1, means only gray-scale image.\n",
        "\n",
        "output_feature means how many outputs will be there after the 1st convolution process, or in short number of filters in first hidden layers."
      ],
      "metadata": {
        "id": "c0qBKXZ3Ujvs"
      }
    },
    {
      "cell_type": "code",
      "source": [
        "H1_real, H1_image = generate_channel(N, M, 0)\n",
        "H2_real, H2_image = generate_channel(N, M, 1)\n",
        "\n",
        "cnt1 = 0\n",
        "\n",
        "print('training iteration') \n",
        "\n",
        "H1_real, H1_image = generate_channel(N, M, 0)\n",
        "H2_real, H2_image = generate_channel(N, M, 1)\n",
        "for i in range(len(SNR_db)):\n",
        "  # print('SNR : {}'.format(SNR_db[i]))\n",
        "  for j in range(n_epoch):\n",
        "    SPC, label1, _ = generate(M, N, batch_size)\n",
        "    signal_power = np.mean(pow(SPC, 2))\n",
        "    sigma_user1 = math.sqrt(signal_power / (math.sqrt(N) * pow(10, float(SNR_db[i]) / 10.0)))\n",
        "    input1_train = generate_input(H1_real, H1_image, SPC, N, batch_size, sigma_user1)\n",
        "                                  \n",
        "    SPC, _, label2 = generate(M, N, batch_size )\n",
        "    signal_power = np.mean(pow(SPC, 2))\n",
        "    sigma_user2 = math.sqrt(signal_power / (math.sqrt(N) * pow(10, float(SNR_db[i]) / 10.0)))\n",
        "    input2_train = generate_input(H2_real, H2_image, SPC, N, batch_size , sigma_user2)        \n",
        "\n",
        "    input1_train = torch.Tensor(input1_train)\n",
        "    label1_train = torch.Tensor(label1)\n",
        "    input1 = torch.reshape(input1_train, (-1, 1, 2, 2))    # -1 will flaten the array and will also make 4x4 arrays \n",
        "\n",
        "    input2_train = torch.Tensor(input2_train)\n",
        "    label2_train = torch.Tensor(label2)\n",
        "    input2 = torch.reshape(input2_train, (-1, 1, 2, 2))\n",
        "        \n",
        "    # input1 = input1.cuda()\n",
        "    label1 = label1_train\n",
        "    # label1 = torch.cuda.LongTensor(label1)\n",
        "    # input2 = input2.cuda()\n",
        "    label2 = label2_train\n",
        "\n",
        "    optimizer1 = optim.SGD(net1.parameters(), lr = 0.01)\n",
        "    optimizer1.zero_grad()\n",
        "    output1 = net1(input1)\n",
        "    l1 = loss(output1, torch.max(label1, 1)[1])\n",
        "    l1.backward()\n",
        "    optimizer1.step()\n",
        "    op1 = torch.Tensor.cpu(output1)\n",
        "    out1 = op1.detach().numpy()\n",
        "    acc1 = accuracy(out1, label1_train, M)\n",
        "    cnt1 = cnt1+1\n",
        "      \n",
        "    output2 = net2(input2)\n",
        "    optimizer2 = optim.SGD(net2.parameters(), lr = 0.01)\n",
        "    optimizer2.zero_grad()\n",
        "    l2 = loss(output2, torch.max(label2, 1)[1])\n",
        "    l2.backward()\n",
        "    optimizer2.step()  \n",
        "    op2 = torch.Tensor.cpu(output2)\n",
        "    out2 = op2.detach().numpy()\n",
        "    acc2 = accuracy(out2, label2_train, M) \n",
        "    print(\"iter {}  : User1  {}  User2  {}\".format(cnt1,acc1,acc2)) \n",
        "\n",
        "\n",
        "# ----------------------------------------- Extra Lines -------------------------------------\n",
        "\n",
        "# H1_real, H1_image = generate_channel(2, 2, 0)\n",
        "# N_real, N_image = generate_input(H1_real, H1_image, SPC, 2, batch_size, sigma_user1)\n",
        "# input1_real, input1_img = generate_input(H1_real, H1_image, SPC, 2, batch_size, sigma_user1)\n",
        "\n",
        "\n",
        "# label1 = torch.set_printoptions(profile = \"full\")\n",
        "print(label1)\n",
        "print(label1.shape)\n",
        "# print(SPC)\n",
        "# print(SPC.shape)\n",
        "# print(f\"Signal Power is : {signal_power}\")\n",
        "# print(f\"The value of Sigma for User-1 is : {sigma_user1}\")\n",
        "print(input1)\n",
        "print(input1.shape) \n",
        "\n",
        "# print(label2)\n",
        "# print(f\"Signal Power is : {signal_power}\")\n",
        "# print(f\"The value of Sigma for User-2 is : {sigma_user2}\")\n",
        "# print(input2_train)\n",
        "# print(label2.shape)\n",
        "# print(input2_train.shape)\n",
        "\n",
        "# print(input1_real)\n",
        "# print(input1_real.shape) \n",
        "# print(input1_img)\n",
        "# print(input1_img.shape) \n",
        "\n",
        "# input1 = torch.set_printoptions(profile= \"full\")\n",
        "# input1 = torch.set_printoptions(profile= \"default\")\n",
        "# print(f\"---------Input to the nueral network -------- \\n {input1}\")\n",
        "# print(input1.shape)\n",
        "# output1 = torch.set_printoptions(profile= \"full\")\n",
        "# output1 = torch.set_printoptions(profile= \"default\")\n",
        "# print(f\"---------Output to the nueral network -------- \\n {output1}\")\n",
        "print(output1)\n",
        "print(output1.shape)\n",
        "\n",
        "# print(H1_real)\n",
        "# print(H1_real.shape)\n",
        "# print(H1_image)\n",
        "# print(H1_image.shape)\n",
        "# print(N_real)\n",
        "# print(N_real.shape)\n",
        "# print(N_image)\n",
        "# print(N_image.shape)\n",
        "\n",
        "# print(bit)\n",
        "\n",
        "# --------------------- Special extra lines for loss function in CNN -------------\n",
        "# SPC, label1, _ = generate(M, N, batch_size)\n",
        "# label1_train = torch.Tensor(label1)\n",
        "# label1 = label1_train \n",
        "# new_lab = torch.max(label1, 1)[1]\n",
        "# print(label1)\n",
        "# print(new_lab)\n",
        "\n",
        "\n",
        "#-------------------------------------------------------------------------------------------"
      ],
      "metadata": {
        "colab": {
          "base_uri": "https://localhost:8080/"
        },
        "id": "5-59XysDniFp",
        "outputId": "49778ff3-8a3a-422b-f11f-dc31f24b241e"
      },
      "execution_count": null,
      "outputs": [
        {
          "output_type": "stream",
          "name": "stdout",
          "text": [
            "training iteration\n"
          ]
        },
        {
          "output_type": "stream",
          "name": "stderr",
          "text": [
            "/usr/local/lib/python3.7/dist-packages/ipykernel_launcher.py:23: UserWarning: Creating a tensor from a list of numpy.ndarrays is extremely slow. Please consider converting the list to a single numpy.ndarray with numpy.array() before converting to a tensor. (Triggered internally at  ../torch/csrc/utils/tensor_new.cpp:201.)\n"
          ]
        },
        {
          "output_type": "stream",
          "name": "stdout",
          "text": [
            "iter 1  : User1  0.25  User2  0.5\n",
            "iter 2  : User1  0.25  User2  0.0\n",
            "iter 3  : User1  0.25  User2  0.25\n",
            "iter 4  : User1  0.25  User2  0.25\n",
            "iter 5  : User1  0.25  User2  0.25\n",
            "iter 6  : User1  0.25  User2  0.25\n",
            "iter 7  : User1  0.25  User2  0.25\n",
            "iter 8  : User1  0.25  User2  0.25\n",
            "iter 9  : User1  0.25  User2  0.25\n",
            "iter 10  : User1  0.25  User2  0.25\n",
            "iter 11  : User1  0.25  User2  0.25\n",
            "iter 12  : User1  0.25  User2  0.25\n",
            "iter 13  : User1  0.25  User2  0.25\n",
            "iter 14  : User1  0.25  User2  0.25\n",
            "iter 15  : User1  0.25  User2  0.25\n",
            "iter 16  : User1  0.25  User2  0.25\n",
            "iter 17  : User1  0.25  User2  0.25\n",
            "iter 18  : User1  0.25  User2  0.25\n",
            "iter 19  : User1  0.25  User2  0.25\n",
            "iter 20  : User1  0.25  User2  0.25\n",
            "iter 21  : User1  0.25  User2  0.25\n",
            "iter 22  : User1  0.25  User2  0.25\n",
            "iter 23  : User1  0.25  User2  0.25\n",
            "iter 24  : User1  0.25  User2  0.25\n",
            "iter 25  : User1  0.25  User2  0.25\n",
            "iter 26  : User1  0.25  User2  0.25\n",
            "iter 27  : User1  0.25  User2  0.25\n",
            "iter 28  : User1  0.25  User2  0.25\n",
            "iter 29  : User1  0.25  User2  0.25\n",
            "iter 30  : User1  0.25  User2  0.25\n",
            "iter 31  : User1  0.25  User2  0.25\n",
            "iter 32  : User1  0.25  User2  0.25\n",
            "iter 33  : User1  0.25  User2  0.25\n",
            "iter 34  : User1  0.25  User2  0.25\n",
            "iter 35  : User1  0.25  User2  0.25\n",
            "iter 36  : User1  0.25  User2  0.25\n",
            "iter 37  : User1  0.25  User2  0.25\n",
            "iter 38  : User1  0.25  User2  0.25\n",
            "iter 39  : User1  0.25  User2  0.25\n",
            "iter 40  : User1  0.25  User2  0.25\n",
            "iter 41  : User1  0.25  User2  0.25\n",
            "iter 42  : User1  0.25  User2  0.25\n",
            "iter 43  : User1  0.25  User2  0.25\n",
            "iter 44  : User1  0.25  User2  0.25\n",
            "iter 45  : User1  0.25  User2  0.25\n",
            "iter 46  : User1  0.25  User2  0.25\n",
            "iter 47  : User1  0.25  User2  0.25\n",
            "iter 48  : User1  0.25  User2  0.25\n",
            "iter 49  : User1  0.25  User2  0.25\n",
            "iter 50  : User1  0.25  User2  0.25\n",
            "tensor([[1., 0., 0., 0.],\n",
            "        [0., 0., 0., 1.],\n",
            "        [0., 1., 0., 0.],\n",
            "        [0., 0., 1., 0.]])\n",
            "torch.Size([4, 4])\n",
            "tensor([[[[-0.5825,  0.7088],\n",
            "          [-0.0620,  0.2154]]],\n",
            "\n",
            "\n",
            "        [[[-0.4282,  0.3934],\n",
            "          [-0.2960,  0.6073]]],\n",
            "\n",
            "\n",
            "        [[[-0.9044,  1.1534],\n",
            "          [-1.3403,  0.9060]]],\n",
            "\n",
            "\n",
            "        [[[-1.6336,  1.3217],\n",
            "          [-1.3245,  1.2993]]]])\n",
            "torch.Size([4, 1, 2, 2])\n",
            "tensor([[-6.2984e-05,  2.8622e-04, -2.7679e-04,  5.3564e-05],\n",
            "        [-6.2984e-05,  2.8622e-04, -2.7679e-04,  5.3564e-05],\n",
            "        [-6.2984e-05,  2.8622e-04, -2.7679e-04,  5.3564e-05],\n",
            "        [-6.2984e-05,  2.8622e-04, -2.7679e-04,  5.3564e-05]],\n",
            "       grad_fn=<NativeBatchNormBackward0>)\n",
            "torch.Size([4, 4])\n"
          ]
        }
      ]
    },
    {
      "cell_type": "code",
      "source": [
        "# #------------------------Extra Block ------------------\n",
        "# b = torch.tensor([[1, 2, 3, 4], [5, 6, 7, 8], [9, 10, 11, 12], [13, 14, 15, 16]], dtype=torch.long)\n",
        "# print(b)\n",
        "# a = torch.reshape(b, (-1, 1, 2, 2))\n",
        "# print(type(a))\n",
        "# a = a.long()\n",
        "# print(type(a))\n",
        "# c = a.detach().numpy()\n",
        "# print(c)\n",
        "# print(type(c))\n",
        "# print(c.shape)\n",
        "\n",
        "\n",
        "# net = nn.Sequential(\n",
        "    \n",
        "    # nn.Conv2d(1, 2, kernel_size=1, stride=1, padding=1), nn.ReLU(),\n",
        "    # nn.MaxPool2d(kernel_size=1, stride=1) \n",
        "# )\n",
        "\n",
        "# output = net(a)\n",
        "# # -----------------------End of the extra block ------------"
      ],
      "metadata": {
        "id": "rZGEosNIv1Vu"
      },
      "execution_count": null,
      "outputs": []
    },
    {
      "cell_type": "code",
      "source": [
        "ERROR_user1 = np.zeros([len(SNR_db), 1])\n",
        "ERROR_user2 = np.zeros([len(SNR_db), 1])\n",
        "print(ERROR_user1)\n",
        "print(ERROR_user2)"
      ],
      "metadata": {
        "colab": {
          "base_uri": "https://localhost:8080/"
        },
        "id": "WRh8TuUcPcYZ",
        "outputId": "442d7524-03dc-41a8-a47d-f4acca495a06"
      },
      "execution_count": null,
      "outputs": [
        {
          "output_type": "stream",
          "name": "stdout",
          "text": [
            "[[0.]\n",
            " [0.]\n",
            " [0.]\n",
            " [0.]\n",
            " [0.]]\n",
            "[[0.]\n",
            " [0.]\n",
            " [0.]\n",
            " [0.]\n",
            " [0.]]\n"
          ]
        }
      ]
    },
    {
      "cell_type": "code",
      "source": [
        "for k in range(1):\n",
        "  print('testing operation')\n",
        "  for i in range(len(SNR_db)):\n",
        "\n",
        "        SPC, label1_test, label2_test = generate(M, N, batch_size )\n",
        "        signal_power = np.mean(pow(SPC, 2))\n",
        "        sigma_test = math.sqrt(signal_power / (math.sqrt(N) * pow(10, float(SNR_db[i]) / 10.0)))\n",
        "        input1_test = generate_input(H1_real, H1_image, SPC, N, batch_size , sigma_test)\n",
        "        input2_test = generate_input(H2_real, H2_image, SPC, N, batch_size , sigma_test)\n",
        "\n",
        "        input1_test = torch.Tensor(input1_test)\n",
        "        label1_test = torch.Tensor(label1_test)\n",
        "        input1_test = torch.reshape(input1_test, [-1,1,2,2])\n",
        "\n",
        "        # input1 = input1_test.cuda()\n",
        "        # label1 = label1_test.cuda()\n",
        "\n",
        "        input1 = input1_test\n",
        "        label1 = label1_test\n",
        "\n",
        "        testop1 = net1(input1)\n",
        "\n",
        "        out1 = torch.Tensor.cpu(testop1)\n",
        "        out1 = out1.detach().numpy()\n",
        "        ac1 = accuracy(out1, label1_test, M) \n",
        "        \n",
        "        ERROR_user1[i, k] = 1 - ac1\n",
        "\n",
        "        input2_test = torch.Tensor(input2_test)\n",
        "        label2_test = torch.Tensor(label2_test)\n",
        "        input2_test = torch.reshape(input2_test, [-1,1,2,2])\n",
        "        # input2 = input2_test.cuda()\n",
        "        # label2 = label2_test.cuda()\n",
        "\n",
        "        input2 = input2_test\n",
        "        label2 = label2_test\n",
        "        \n",
        "        testop2 = net2(input2)\n",
        "        opt2 = torch.Tensor.cpu(testop2)\n",
        "        out2 = opt2.detach().numpy()\n",
        "        ac2 = accuracy(out2, label2_test, M)\n",
        "        ERROR_user2[i, k] = 1 - ac2"
      ],
      "metadata": {
        "colab": {
          "base_uri": "https://localhost:8080/"
        },
        "id": "FBC8ZUYSPgse",
        "outputId": "a2e09169-58be-497a-c352-ff862211050d"
      },
      "execution_count": null,
      "outputs": [
        {
          "output_type": "stream",
          "name": "stdout",
          "text": [
            "testing operation\n"
          ]
        }
      ]
    },
    {
      "cell_type": "code",
      "source": [
        "error1 = np.mean((ERROR_user1), axis=1)\n",
        "error2 = np.mean((ERROR_user2), axis=1)\n",
        "# print(H1_real)\n",
        "plt.figure()\n",
        "plt.semilogy(SNR_db, error1, ls='--', marker='o', label='user1')\n",
        "plt.semilogy(SNR_db, error2, ls='--', marker='+', label='user2')\n",
        "for i in range(5):\n",
        "  label1 = \"{:.2f}\".format(error1[i])\n",
        "  label2 = \"{:.2f}\".format(error2[i])\n",
        "  plt.annotate(label1,(SNR_db[i],ERROR_user1[i]))\n",
        "  plt.annotate(label2,(SNR_db[i],ERROR_user2[i]))\n",
        "plt.grid()\n",
        "plt.legend()\n",
        "plt.xlim(pow(10, 0), pow(11, 1))\n",
        "plt.xlabel('SNR')\n",
        "plt.ylabel('SER')\n",
        "plt.title('SER of user2 in MIMO_NOMA BPSK_CNN')\n",
        "plt.savefig('SER_MIMO_NOMA_CNN_BPSK')\n",
        "plt.show()\n",
        "print(\"SNR : {}\".format(SNR_db))\n",
        "print(\"bit error for user 1 at testing : {}\".format(error1))\n",
        "print(\"bit error for user 2 at testing : {}\".format(error2))"
      ],
      "metadata": {
        "colab": {
          "base_uri": "https://localhost:8080/",
          "height": 347
        },
        "id": "UYOBmWQOQ4iq",
        "outputId": "c55a491c-8ed1-493a-b051-aff1d59f966a"
      },
      "execution_count": null,
      "outputs": [
        {
          "output_type": "display_data",
          "data": {
            "image/png": "[encoded data removed]",
            "text/plain": [
              "<Figure size 432x288 with 1 Axes>"
            ]
          },
          "metadata": {
            "needs_background": "light"
          }
        },
        {
          "output_type": "stream",
          "name": "stdout",
          "text": [
            "SNR : [ 2  4  6  8 10]\n",
            "bit error for user 1 at testing : [0.75 0.75 0.75 0.75 0.75]\n",
            "bit error for user 2 at testing : [0.75 0.75 0.75 0.75 0.75]\n"
          ]
        }
      ]
    }
  ]
}