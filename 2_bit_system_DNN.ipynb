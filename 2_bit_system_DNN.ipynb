{
  "cells": [
    {
      "cell_type": "markdown",
      "metadata": {
        "id": "view-in-github",
        "colab_type": "text"
      },
      "source": [
        "<a href=\"https://colab.research.google.com/github/dSatasiya/WLC-With-Machine-Learning/blob/main/2_bit_system_DNN.ipynb\" target=\"_parent\"><img src=\"https://colab.research.google.com/assets/colab-badge.svg\" alt=\"Open In Colab\"/></a>"
      ]
    },
    {
      "cell_type": "code",
      "execution_count": null,
      "metadata": {
        "id": "1igyV0JgSMYf"
      },
      "outputs": [],
      "source": [
        "import numpy as np                      # to perform the various numerical operation\n",
        "import random                           # to generate the random values for the matrix\n",
        "import torch                            # PyTorch - machine learning framwork \n",
        "from torch import nn                    # Neural Network sublibrary from torch\n",
        "import torch.optim as optim             # Optimizer to optimiz the neural network to reduce the loss\n",
        "import math                             # to use inbuilt mathematical formulas\n",
        "from matplotlib import pyplot as plt    # to plot the final output \n",
        "import tensorflow as tf"
      ]
    },
    {
      "cell_type": "code",
      "execution_count": null,
      "metadata": {
        "colab": {
          "base_uri": "https://localhost:8080/"
        },
        "id": "m1BwroDPU5je",
        "outputId": "4f6a6047-b38e-4d6b-cc46-aab246df5fb6"
      },
      "outputs": [
        {
          "output_type": "stream",
          "name": "stdout",
          "text": [
            " Different SNR values : [ 2  4  6  8 10]\n"
          ]
        }
      ],
      "source": [
        "bit = 2\n",
        "SNR_db = np.array(list(range(2, 11, 2)))\n",
        "print(f\" Different SNR values : {SNR_db}\")\n",
        "batch_size = 1"
      ]
    },
    {
      "cell_type": "code",
      "execution_count": null,
      "metadata": {
        "colab": {
          "base_uri": "https://localhost:8080/"
        },
        "id": "-6xJXo-YU-_J",
        "outputId": "5a39f51f-8bd6-422d-a414-b7e5fd10a66b"
      },
      "outputs": [
        {
          "output_type": "execute_result",
          "data": {
            "text/plain": [
              "(array([[0, 0, 1, 1],\n",
              "        [0, 1, 0, 1]]), array([[0, 0, 1, 1],\n",
              "        [1, 1, 0, 0],\n",
              "        [0, 1, 0, 1],\n",
              "        [1, 0, 1, 0]]))"
            ]
          },
          "metadata": {},
          "execution_count": 3
        }
      ],
      "source": [
        "def generate_data_bit(bit, batch_size):\n",
        "\n",
        "  input = [[0 for _ in range(pow(2, bit))] for _ in range(bit)]\n",
        "  label = [[0 for _ in range(pow(2, bit))] for _ in range(2 * bit)]\n",
        "\n",
        "  for i in range(1<<bit):       # 1<<2 = 1 = 0001 and 1<<2 = 0100 = 4 in decimal \n",
        "    for j in range(bit):        # bit = 2 = (0 and 1)\n",
        "      if i & (1<<j):            # & = AND operation \n",
        "        input[bit - j -1][i] = 1\n",
        "\n",
        "  for i in range(1<<bit):\n",
        "    for j in range(bit):\n",
        "      if input[j][i] == 1:\n",
        "        label[2*j][i] = 1\n",
        "        label[2*j+1][i] = 0\n",
        "      else:\n",
        "        label[2*j][i] = 0\n",
        "        label[2*j+1][i] = 1\n",
        "\n",
        "  input = np.tile(np.array(input) ,batch_size)  # to repeat the array to produce the multiple inputs \n",
        "  label = np.tile(np.array(label) ,batch_size)  # same for labels\n",
        "  # input_s = input.shape\n",
        "  # label_s = label.shape\n",
        "  return input, label # input_s, label_s\n",
        "generate_data_bit(bit, batch_size)\n"
      ]
    },
    {
      "cell_type": "code",
      "execution_count": null,
      "metadata": {
        "colab": {
          "base_uri": "https://localhost:8080/"
        },
        "id": "-Y3g6eaGV5T3",
        "outputId": "fc5c1fa2-39a4-40ae-837b-ebe0ceadcbf1"
      },
      "outputs": [
        {
          "data": {
            "text/plain": [
              "(array([[ 1.34164079,  0.4472136 , -0.4472136 , -1.34164079],\n",
              "        [-1.34164079,  0.4472136 ,  1.34164079, -0.4472136 ]]),\n",
              " array([[1., 0., 0., 1.],\n",
              "        [1., 0., 1., 0.],\n",
              "        [0., 1., 1., 0.],\n",
              "        [0., 1., 0., 1.]], dtype=float32),\n",
              " array([[1., 0., 0., 1.],\n",
              "        [0., 1., 0., 1.],\n",
              "        [1., 0., 1., 0.],\n",
              "        [0., 1., 1., 0.]], dtype=float32),\n",
              " array([[ 1,  1, -1, -1],\n",
              "        [-1,  1,  1, -1]]),\n",
              " array([[ 1, -1,  1, -1],\n",
              "        [-1, -1,  1,  1]]))"
            ]
          },
          "execution_count": 7,
          "metadata": {},
          "output_type": "execute_result"
        }
      ],
      "source": [
        "def generate(M, N, batch_size):                        # What are the M and N ?\n",
        "  input, label = generate_data_bit(M, batch_size)\n",
        "  ran1 = np.random.permutation(batch_size * pow(2, M))  # Suffling Dataset\n",
        "  ran2 = np.random.permutation(batch_size * pow(2, M))\n",
        "  \n",
        "  symbol1 = 2 * input[:, ran1] - 1                  # BPSK is applied over here\n",
        "  symbol2 = 2 * input[:, ran2] - 1  # [rows, columns]\n",
        "  # signal1 = \n",
        "  # SPC = math.sqrt(0.8) * symbol1 + math.sqrt(0.2) * symbol2  # Superposition Coding\n",
        "\n",
        "  label1 = np.transpose(label[:, ran1].astype('float32')) # Transpose of matrix\n",
        "  label2 = np.transpose(label[:, ran2].astype('float32'))\n",
        "  return SPC, label1, label2, symbol1, symbol2  #SPC.shape, label1.shape, label2.shape\n",
        "\n",
        "generate(2, 2, 1) "
      ]
    },
    {
      "cell_type": "code",
      "execution_count": null,
      "metadata": {
        "id": "U-7rLWBAWU77"
      },
      "outputs": [],
      "source": [
        "# def generate_input(H1_real, H1_image, SPC, N, batch_size, sigma):   # What is \"Sigma\" here ?\n",
        "def generate_input(H1_real, H1_image, SPC, N, batch_size, sigma): \n",
        "    N_real, N_image = generate_channel(N, batch_size * pow(2, N), 0)\n",
        "\n",
        "    input1_real = np.matmul(H1_real, SPC) + sigma * N_real       # Matrix multiplications  and the value of sigma will be constant\n",
        "    input1_img = np.matmul(H1_image, SPC) + sigma * N_image         # and overall value of input will be in the form of matrix \n",
        "\n",
        "    # I must emphasize that in order to add or subtract two given matrices, they should have the same size or dimension. \n",
        "    # Otherwise, we conclude that the sum (addition) or difference (subtraction) of two matrices having different sizes or dimensions is undefined!\n",
        "\n",
        "    input1 = np.transpose(np.concatenate((input1_real, input1_img), axis=0))  # axis = 0 means vertical joining and axis = 1 means horizontal joining\n",
        "                                                                 # concatenate in used to join the arrays in the particular sequence\n",
        "    return input1\n",
        "# generate_input()"
      ]
    },
    {
      "cell_type": "markdown",
      "metadata": {
        "id": "yg4sjmIHbIZD"
      },
      "source": [
        "(array([[ 0.05174115,  0.4973521 ],\n",
        "        [ 0.56055852, -0.50396289]]), array([[ 0.84469894, -0.0208816 ],\n",
        "        [ 0.10053351, -0.63961375]]))"
      ]
    },
    {
      "cell_type": "code",
      "execution_count": null,
      "metadata": {
        "colab": {
          "base_uri": "https://localhost:8080/"
        },
        "id": "xs2FoS3xWd99",
        "outputId": "6e6b0d56-50cd-4407-e198-d1dc60928572"
      },
      "outputs": [
        {
          "data": {
            "text/plain": [
              "(array([[-0.35175591,  0.11070654],\n",
              "        [ 0.1988587 ,  0.8149869 ]]), array([[ 1.2537708 ,  0.23677384],\n",
              "        [-0.35053621, -0.1996871 ]]))"
            ]
          },
          "execution_count": 6,
          "metadata": {},
          "output_type": "execute_result"
        }
      ],
      "source": [
        "def generate_channel(N, M, k):\n",
        "\n",
        "  h1 = np.random.randn(N, M)/ math.sqrt(2)  # to create arbitrary signals,\n",
        "  h2 = np.random.randn(N, M)/ math.sqrt(2)  # we use random.randn to create random matrics \n",
        "\n",
        "  if k == 0:\n",
        "    return h1, h2\n",
        "  else:\n",
        "    return 2 * h1, 2 * h2\n",
        "generate_channel(2, 2, 0)"
      ]
    },
    {
      "cell_type": "code",
      "execution_count": null,
      "metadata": {
        "id": "dXyyiqBKWpML"
      },
      "outputs": [],
      "source": [
        "def accuracy(out, label, bit):\n",
        "  accuracy = 0\n",
        "  for i in range(bit):\n",
        "\n",
        "     acc =tf.reduce_mean(tf.cast(tf.equal(tf.argmax(tf.slice(out, [0, 2*i], [-1, 2]), 1), tf.argmax(tf.slice(label, [0, 2*i], [-1, 2]), 1)), dtype=tf.float32))\n",
        "     accuracy += acc\n",
        "  return accuracy / 2"
      ]
    },
    {
      "cell_type": "markdown",
      "metadata": {
        "id": "Rjb05PZF8Dh8"
      },
      "source": [
        "1) **tf.slice(input_, begin_, size, name=none)** is basically used to cut or slice the array from particular starting point with typical size.\n",
        "\n",
        "2) tf.argmax(input_, name) is used to find the position of maximum value in the array and it will give the position of max value rowwise\n",
        "\n",
        "3) tf.equal(x, y)  --> Returns the truth value of (x == y) element-wise.\n",
        "\n",
        "4) tf.cast(x, dtype) --> Casts a tensor(x here) to a new type\n",
        "\n",
        "5) tf.reduce_mean(input_tensor) --> Computes the mean of elements across dimensions of a tensor. (here for input_tensor)\n",
        "\n",
        "Here, fisrt of all accuracy of the half vertical array will be found and then the accuracy of another half vertical array will be found. "
      ]
    },
    {
      "cell_type": "code",
      "execution_count": null,
      "metadata": {
        "colab": {
          "base_uri": "https://localhost:8080/"
        },
        "id": "6TOvTekdWsU0",
        "outputId": "124117db-5385-4fba-a3fc-450e167a66e0"
      },
      "outputs": [
        {
          "data": {
            "text/plain": [
              "Sequential(\n",
              "  (0): Linear(in_features=4, out_features=8, bias=True)\n",
              "  (1): BatchNorm1d(8, eps=1e-05, momentum=0.1, affine=True, track_running_stats=True)\n",
              "  (2): ReLU()\n",
              "  (3): Linear(in_features=8, out_features=8, bias=True)\n",
              "  (4): BatchNorm1d(8, eps=1e-05, momentum=0.1, affine=True, track_running_stats=True)\n",
              "  (5): ReLU()\n",
              "  (6): Linear(in_features=8, out_features=4, bias=True)\n",
              "  (7): BatchNorm1d(4, eps=1e-05, momentum=0.1, affine=True, track_running_stats=True)\n",
              ")"
            ]
          },
          "execution_count": 8,
          "metadata": {},
          "output_type": "execute_result"
        }
      ],
      "source": [
        "net = nn.Sequential(\n",
        "    nn.Linear(4, 8), nn.BatchNorm1d(8), nn.ReLU(),    \n",
        "    nn.Linear(8, 8), nn.BatchNorm1d(8), nn.ReLU(),\n",
        "    # nn.Linear(8, 8), nn.BatchNorm1d(8), nn.ReLU(),\n",
        "    # nn.Linear(8, 8), nn.BatchNorm1d(8), nn.ReLU(),\n",
        "    # nn.Linear(8, 8), nn.BatchNorm1d(8), nn.ReLU(),    # Because, Activation funtion will only run at output side \n",
        "    nn.Linear(8, 4), nn.BatchNorm1d(4),               # So, we haven't written it here\n",
        ")\n",
        "# print(net)\n",
        "device = torch.device('cuda' if torch.cuda.is_available() else 'cpu')\n",
        "loss = nn.MSELoss()        # it is used to find the Mean Square Error Loss in the system \n",
        "net1 = net.to(device = device)     # net1 for user1 \n",
        "net2 = net.to(device = device)     # net2 for user2 \n",
        "# print(net1)\n",
        "# print(net2)\n",
        "def init_weights(m):                                  # what does this mean ??\n",
        "    if type(m) == nn.Linear:                          # this somewhat needs to understand\n",
        "        torch.nn.init.normal_(m.weight, std=0.01)     #Fills the input Tensor with values drawn from the normal distribution \n",
        "init_weights(2)\n",
        "net1.apply(init_weights)\n",
        "net2.apply(init_weights)"
      ]
    },
    {
      "cell_type": "code",
      "execution_count": null,
      "metadata": {
        "colab": {
          "base_uri": "https://localhost:8080/"
        },
        "id": "zoXZwcf7W1lM",
        "outputId": "4649cf0c-b831-4b18-915a-7a22fa10eeae"
      },
      "outputs": [
        {
          "name": "stdout",
          "output_type": "stream",
          "text": [
            "---------------------------------Training Operation---------------------------------\n",
            "iter 1 User1 aacuracy : 0.375 User2 accuracy : 0.75\n",
            "iter 2 User1 aacuracy : 0.25 User2 accuracy : 0.25\n",
            "iter 3 User1 aacuracy : 0.25 User2 accuracy : 0.875\n",
            "iter 4 User1 aacuracy : 0.25 User2 accuracy : 0.875\n",
            "iter 5 User1 aacuracy : 0.375 User2 accuracy : 0.625\n",
            "iter 6 User1 aacuracy : 0.5 User2 accuracy : 0.625\n",
            "iter 7 User1 aacuracy : 0.5 User2 accuracy : 0.75\n",
            "iter 8 User1 aacuracy : 0.75 User2 accuracy : 0.75\n",
            "iter 9 User1 aacuracy : 0.875 User2 accuracy : 0.75\n",
            "iter 10 User1 aacuracy : 0.75 User2 accuracy : 0.875\n",
            "-------------------------------------------------\n",
            "iter 11 User1 aacuracy : 0.75 User2 accuracy : 0.5\n",
            "iter 12 User1 aacuracy : 0.5 User2 accuracy : 0.625\n",
            "iter 13 User1 aacuracy : 0.75 User2 accuracy : 0.75\n",
            "iter 14 User1 aacuracy : 0.625 User2 accuracy : 0.875\n",
            "iter 15 User1 aacuracy : 0.625 User2 accuracy : 0.875\n",
            "iter 16 User1 aacuracy : 0.5 User2 accuracy : 0.875\n",
            "iter 17 User1 aacuracy : 0.625 User2 accuracy : 0.875\n",
            "iter 18 User1 aacuracy : 0.75 User2 accuracy : 0.875\n",
            "iter 19 User1 aacuracy : 0.75 User2 accuracy : 1.0\n",
            "iter 20 User1 aacuracy : 0.875 User2 accuracy : 1.0\n",
            "-------------------------------------------------\n",
            "iter 21 User1 aacuracy : 0.25 User2 accuracy : 0.5\n",
            "iter 22 User1 aacuracy : 0.375 User2 accuracy : 0.75\n",
            "iter 23 User1 aacuracy : 0.375 User2 accuracy : 0.625\n",
            "iter 24 User1 aacuracy : 0.5 User2 accuracy : 0.625\n",
            "iter 25 User1 aacuracy : 0.625 User2 accuracy : 0.75\n",
            "iter 26 User1 aacuracy : 0.625 User2 accuracy : 0.75\n",
            "iter 27 User1 aacuracy : 0.75 User2 accuracy : 0.75\n",
            "iter 28 User1 aacuracy : 0.75 User2 accuracy : 0.75\n",
            "iter 29 User1 aacuracy : 0.875 User2 accuracy : 0.875\n",
            "iter 30 User1 aacuracy : 0.75 User2 accuracy : 0.75\n",
            "-------------------------------------------------\n",
            "iter 31 User1 aacuracy : 0.625 User2 accuracy : 0.5\n",
            "iter 32 User1 aacuracy : 0.75 User2 accuracy : 0.625\n",
            "iter 33 User1 aacuracy : 0.75 User2 accuracy : 0.875\n",
            "iter 34 User1 aacuracy : 0.75 User2 accuracy : 1.0\n",
            "iter 35 User1 aacuracy : 0.875 User2 accuracy : 1.0\n",
            "iter 36 User1 aacuracy : 0.875 User2 accuracy : 1.0\n",
            "iter 37 User1 aacuracy : 1.0 User2 accuracy : 1.0\n",
            "iter 38 User1 aacuracy : 1.0 User2 accuracy : 1.0\n",
            "iter 39 User1 aacuracy : 1.0 User2 accuracy : 1.0\n",
            "iter 40 User1 aacuracy : 1.0 User2 accuracy : 1.0\n",
            "-------------------------------------------------\n",
            "iter 41 User1 aacuracy : 0.75 User2 accuracy : 0.625\n",
            "iter 42 User1 aacuracy : 1.0 User2 accuracy : 0.625\n",
            "iter 43 User1 aacuracy : 1.0 User2 accuracy : 0.875\n",
            "iter 44 User1 aacuracy : 1.0 User2 accuracy : 0.875\n",
            "iter 45 User1 aacuracy : 1.0 User2 accuracy : 0.875\n",
            "iter 46 User1 aacuracy : 1.0 User2 accuracy : 0.875\n",
            "iter 47 User1 aacuracy : 1.0 User2 accuracy : 1.0\n",
            "iter 48 User1 aacuracy : 1.0 User2 accuracy : 1.0\n",
            "iter 49 User1 aacuracy : 1.0 User2 accuracy : 1.0\n",
            "iter 50 User1 aacuracy : 1.0 User2 accuracy : 1.0\n",
            "-------------------------------------------------\n"
          ]
        }
      ],
      "source": [
        "H1_real, H1_image = generate_channel(bit, bit, 0)\n",
        "H2_real, H2_image = generate_channel(bit, bit, 1)\n",
        "batch_size = 1\n",
        "train_size = 1\n",
        "N = 2\n",
        "# print(H1_real, H1_image)\n",
        "# print(H2_real, H2_image) \n",
        "cnt = 0       # count is initially set to 0 \n",
        "iter = 10    # iteration is 5 nothing but epoch for the neural network \n",
        "print(\"---------------------------------Training Operation---------------------------------\")\n",
        "for i in range(len(SNR_db)):            # print(i)                   \n",
        "  SPC, label1_train, _ = generate(bit, bit, 1)\n",
        "  signal_power = np.mean(pow(SPC, 2))\n",
        "  sigma_user1  = math.sqrt(signal_power / (math.sqrt(bit) * pow(10, float(SNR_db[i]) / 10.0)))   # this is just formula applied for the value of sigma\n",
        "  input1_train = generate_input(H1_real, H1_image, SPC, N, batch_size, sigma_user1)\n",
        "  input1 = generate_input(H1_real, H1_image, SPC, N, batch_size, sigma_user1)\n",
        "  input1 = torch.Tensor(input1)   # input1 is converted from numpy array to tensor\n",
        "  label1 = label1_train\n",
        "  label1 = torch.Tensor(label1) \n",
        "# ----------------------------------------- Extra Lines -------------------------------------------\n",
        "  # H1_real, H1_image = generate_channel(2, 2, 0)\n",
        "  # N_real, N_image = generate_channel(N, batch_size * pow(2, N), 0)\n",
        "  # input1_real, _= generate_input(H1_real, H1_image, SPC, N, batch_size, sigma_user1)\n",
        "  # _, input1_img = generate_input(H1_real, H1_image, SPC, N, batch_size, sigma_user1)\n",
        "\n",
        "  # input1 = input1.view(-1, 4*4)       #  It will simply reshape the entire tensor in unknown dimension\n",
        "# --------------------------------------------------------------------------------------------------\n",
        "\n",
        "  SPC, _, label2_train = generate(bit, bit, 1)\n",
        "  signal_power = np.mean(pow(SPC, 2))\n",
        "  sigma_user2 = math.sqrt(signal_power / (math.sqrt(bit) * pow(10, float(SNR_db[i]) / 10.0)))\n",
        "  input2_train = generate_input(H2_real, H2_image, SPC, N, batch_size, sigma_user2)\n",
        "  input2 = input2_train\n",
        "  input2 = torch.Tensor(input2)\n",
        "  label2 = label2_train\n",
        "  label2 = torch.Tensor(label2)\n",
        "# ---------------------------------- extra -----------------------------------------\n",
        "  # input1_train = torch.Tensor(input1_train) \n",
        "  # label1_train = torch.Tensor(label1_train)zz\n",
        "  # input1 = input1_train.cuda() if torch.cuda.is_available() else 'cpu'      # string error is probably arising due to \"cuda\"\n",
        "  # label1= label1_train.cuda() if torch.cuda.is_available() else 'cpu'\n",
        "# ----------------------------------------------------------------------------------\n",
        "  for j in range(iter):\n",
        "    # print(f\"This is iteration -- {j}\")\n",
        "    optimizer1 = optim.SGD(net1.parameters(), lr = 0.01)          # The fundamental goal of optimizer is to reduce the loss and to decrease\n",
        "    optimizer1.zero_grad()\n",
        "    # print(f\"input ---- 1 ---- \\n {input1}\")                                      # the training error in the neural network \n",
        "    output1 = net1(input1)                         # here \n",
        "    # print(f\"output ---- 1 ---- \\n {output1}\")\n",
        "    # print(f\"label ---- 1 ---- \\n {label1}\")    \n",
        "    l1 = loss(output1, label1)\n",
        "    # print(f\"loss ---- 1 ---- \\n {l1}\")\n",
        "    l1.backward()\n",
        "    optimizer1.step()\n",
        "    op1 = torch.Tensor.cpu(output1)\n",
        "    out1 = op1.detach().numpy()\n",
        "    # print(f\"Numpy array ---- 1 ---- \\n {out1}\")                           # detach(). numpy() is the correct way to get a numpy array from a torch tensor.\n",
        "    acc1 = accuracy(out1, label1, bit) \n",
        "    cnt = cnt+1\n",
        "\n",
        "    output2 = net2(input2)\n",
        "    # print(output2[0][0])\n",
        "    optimizer2 = optim.SGD(net2.parameters(), lr = 0.01)\n",
        "    optimizer2.zero_grad()\n",
        "    l2 = loss(output2, label2)\n",
        "    l2.backward()\n",
        "    optimizer2.step()  \n",
        "    op2 = torch.Tensor.cpu(output2)\n",
        "    out2 = op2.detach().numpy()\n",
        "    acc2 = accuracy(out2, label2, bit)\n",
        "    print(\"iter {} User1 aacuracy : {} User2 accuracy : {}\".format(cnt,acc1,acc2))\n",
        "  print(\"-------------------------------------------------\")\n",
        "\n",
        "# ----------------------------- Extra Lines to check the outputs --------------------------\n",
        "# print(label1)\n",
        "# print(label1_train.shape)\n",
        "# print(SPC)\n",
        "# print(f\"Signal Power is : {signal_power}\")\n",
        "# print(f\"The value of Sigma for User-1 is : {sigma_user1}\")\n",
        "# print(input1_train)\n",
        "# print(input1_train.shape)\n",
        "\n",
        "# print(input1_real)\n",
        "# print(input1_real.shape) \n",
        "# print(input1_img)\n",
        "# print(input1_img.shape) \n",
        "\n",
        "# input1 = torch.set_printoptions(profile= \"full\")\n",
        "# input1 = torch.set_printoptions(profile= \"default\")\n",
        "# print(f\"---------Input to the nueral network -------- \\n {input1}\")\n",
        "# print(input1.shape)\n",
        "# output1 = torch.set_printoptions(profile= \"full\")\n",
        "# output1 = torch.set_printoptions(profile= \"default\")\n",
        "# print(f\"---------Output from the nueral network -------- \\n {output1}\")\n",
        "# print(output1.shape)\n",
        "\n",
        "# print(H1_real)\n",
        "# print(H1_real.shape)\n",
        "# print(H1_image)\n",
        "# print(H1_image.shape)\n",
        "# print(N_real)\n",
        "# print(N_real.shape)\n",
        "# print(N_image)\n",
        "# print(N_image.shape)\n",
        "\n",
        "# print(label2_train)\n",
        "# print(f\"Signal Power is : {signal_power}\")\n",
        "# print(f\"The value of Sigma for User-2 is : {sigma_user2}\")\n",
        "# print(input2_train)\n",
        "# print(label2_train.shape)\n",
        "# print(input2_train.shape)\n",
        "\n",
        "# print(bit)\n",
        "\n",
        "# print(f\"Accuracy Array -------- \\n {acc1}\")\n",
        "#-------------------------------------------------------------------------------------------"
      ]
    },
    {
      "cell_type": "code",
      "execution_count": null,
      "metadata": {
        "colab": {
          "base_uri": "https://localhost:8080/"
        },
        "id": "r6T1PFI8blGS",
        "outputId": "efd50fd7-f793-48ac-b2ba-77844948500d"
      },
      "outputs": [
        {
          "name": "stdout",
          "output_type": "stream",
          "text": [
            "---------------Training data -------------- \n",
            "\n",
            "User1 train input : (4, 4)\n",
            "User1 train label : (4, 4)\n",
            "User2 train input : (4, 4)\n",
            "User2 train label : (4, 4)\n"
          ]
        }
      ],
      "source": [
        "Train = { \"input1_train\" : input1_train, \"train_label1\" : label1_train, \"input2_train\" : input2_train, \"train_label2\" : label2_train }\n",
        "print(\"---------------Training data -------------- \\n\")\n",
        "print('User1 train input : {}'.format(input1_train.shape))\n",
        "print('User1 train label : {}'.format(label1_train.shape))\n",
        "print('User2 train input : {}'.format(input2_train.shape))\n",
        "print('User2 train label : {}'.format(label2_train.shape))"
      ]
    },
    {
      "cell_type": "code",
      "execution_count": null,
      "metadata": {
        "colab": {
          "base_uri": "https://localhost:8080/"
        },
        "id": "dlXFiZ_-btzA",
        "outputId": "301ddc15-6144-46e8-c1c9-7db334707ce2"
      },
      "outputs": [
        {
          "name": "stdout",
          "output_type": "stream",
          "text": [
            "[[0.]\n",
            " [0.]\n",
            " [0.]\n",
            " [0.]\n",
            " [0.]]\n",
            "[[0.]\n",
            " [0.]\n",
            " [0.]\n",
            " [0.]\n",
            " [0.]]\n"
          ]
        }
      ],
      "source": [
        "ERROR_user1 = np.zeros([len(SNR_db), 1])\n",
        "ERROR_user2 = np.zeros([len(SNR_db), 1])\n",
        "print(ERROR_user1)\n",
        "print(ERROR_user2)\n"
      ]
    },
    {
      "cell_type": "code",
      "execution_count": null,
      "metadata": {
        "colab": {
          "base_uri": "https://localhost:8080/"
        },
        "id": "WOCoNyG0bw7B",
        "outputId": "59e5bfdd-c1bb-40ab-dcb0-2ae02aca7af8"
      },
      "outputs": [
        {
          "name": "stdout",
          "output_type": "stream",
          "text": [
            "---------------------------------Testing operation-------------------------\n",
            "Error for user-1 for 5 different values of SNR -- \n",
            " [[0.   ]\n",
            " [0.125]\n",
            " [0.   ]\n",
            " [0.125]\n",
            " [0.   ]]\n",
            "Error for user-2 for 5 different values of SNR -- \n",
            " [[0.375]\n",
            " [0.   ]\n",
            " [0.25 ]\n",
            " [0.625]\n",
            " [0.5  ]]\n"
          ]
        }
      ],
      "source": [
        "print('---------------------------------Testing operation-------------------------')\n",
        "test_size = 1            # not previously defined \n",
        "batch_size = 1\n",
        "k = 0\n",
        "for i in range(len(SNR_db)):\n",
        "  SPC_test, label1_test, label2_test = generate(bit, bit, batch_size * test_size)\n",
        "  signal_power = np.mean(pow(SPC_test, 2))\n",
        "  sigma_test = math.sqrt(signal_power / (math.sqrt(bit) * pow(10, float(SNR_db[i]) / 10.0)))\n",
        "  input1_test = generate_input(H1_real, H1_image, SPC_test, bit, batch_size * test_size, sigma_test)\n",
        "  input2_test = generate_input(H2_real, H2_image, SPC_test, bit, batch_size * test_size, sigma_test)\n",
        "      \n",
        "  input1_test = torch.Tensor(input1_test)\n",
        "  label1_test = torch.Tensor(label1_test)\n",
        "  # input_test1 = input1_test.cuda()        # Changes in cuda \n",
        "  # label_test1 = label1_test.cuda()\n",
        "      \n",
        "  testop1 = net1(input1_test)\n",
        "  opt1 = torch.Tensor.cpu(testop1)\n",
        "  out1 = opt1.detach().numpy()\n",
        "  ac1 = accuracy(out1, label1_test, bit)\n",
        "  # print(ac1)\n",
        "  ERROR_user1[i, k] = 1 - ac1\n",
        "\n",
        "  input2_test = torch.Tensor(input2_test)\n",
        "  label2_test = torch.Tensor(label2_test)\n",
        "  # input_test2 = input2_test.cuda()\n",
        "  # label_test2 = label2_test.cuda()\n",
        "      \n",
        "  testop2 = net2(input2_test)\n",
        "  opt2 = torch.Tensor.cpu(testop2)\n",
        "  out2 = opt2.detach().numpy()\n",
        "  ac2 = accuracy(out2, label2_test, bit)\n",
        "  # print(ac2)\n",
        "  ERROR_user2[i, k] = 1 - ac2\n",
        "\n",
        "  # -------------------------------------------Extra Lines of the code ----------------------------------\n",
        "# print(label1_test)\n",
        "# print(label2_test)\n",
        "print(f\"Error for user-1 for 5 different values of SNR -- \\n {ERROR_user1}\")\n",
        "print(f\"Error for user-2 for 5 different values of SNR -- \\n {ERROR_user2}\")\n",
        "# print(SPC_test)"
      ]
    },
    {
      "cell_type": "code",
      "execution_count": null,
      "metadata": {
        "colab": {
          "base_uri": "https://localhost:8080/"
        },
        "id": "iUlTwrYHb16U",
        "outputId": "2e64166d-1d24-4b7e-d4b7-d0a4aa7da4da"
      },
      "outputs": [
        {
          "name": "stdout",
          "output_type": "stream",
          "text": [
            "----------------Testing data-------------------\n",
            "User1 test input : torch.Size([4, 4])\n",
            "User1 test label : torch.Size([4, 4])\n",
            "User2 test input : torch.Size([4, 4])\n",
            "User2 test label : torch.Size([4, 4])\n"
          ]
        }
      ],
      "source": [
        "Test = { \"input1_test\" : input1_test, \"input2_test\" : input2_test, \"test_label1\" : label1_test, \"test_label2\" : label2_test }\n",
        "print(\"----------------Testing data-------------------\")\n",
        "\n",
        "print('User1 test input : {}'.format(input1_test.shape))\n",
        "print('User1 test label : {}'.format(label1_test.shape))\n",
        "print('User2 test input : {}'.format(input2_test.shape))\n",
        "print('User2 test label : {}'.format(label2_test.shape))"
      ]
    },
    {
      "cell_type": "markdown",
      "metadata": {
        "id": "jp8akyRKyZMB"
      },
      "source": [
        "1) plt.semilog => :Make a plot with log scaling on the y axis.\n",
        "2) plt.annotate()\n",
        "matplotlib.pyplot.annotate(text, xy, *args, **kwargs)\n",
        "Annotate the point xy with text text. (here in our case text = label1/label2)\n",
        " \n",
        "3) plt.grid()\n",
        "Configure the grid lines. \n",
        "example - grid(color='r', linestyle='-', linewidth=2)\n",
        "\n",
        "4) plt.legend() \n",
        "The call signatures correspond to the following different ways to use this method\n",
        "\n",
        "5) "
      ]
    },
    {
      "cell_type": "code",
      "execution_count": null,
      "metadata": {
        "colab": {
          "base_uri": "https://localhost:8080/",
          "height": 450
        },
        "id": "X3dk_neucBhr",
        "outputId": "4a69c33e-412b-46c4-923f-e6ae4a836dec"
      },
      "outputs": [
        {
          "ename": "ValueError",
          "evalue": "ignored",
          "output_type": "error",
          "traceback": [
            "\u001b[0;31m---------------------------------------------------------------------------\u001b[0m",
            "\u001b[0;31mValueError\u001b[0m                                Traceback (most recent call last)",
            "\u001b[0;32m/usr/local/lib/python3.7/dist-packages/IPython/core/formatters.py\u001b[0m in \u001b[0;36m__call__\u001b[0;34m(self, obj)\u001b[0m\n\u001b[1;32m    332\u001b[0m                 \u001b[0;32mpass\u001b[0m\u001b[0;34m\u001b[0m\u001b[0;34m\u001b[0m\u001b[0m\n\u001b[1;32m    333\u001b[0m             \u001b[0;32melse\u001b[0m\u001b[0;34m:\u001b[0m\u001b[0;34m\u001b[0m\u001b[0;34m\u001b[0m\u001b[0m\n\u001b[0;32m--> 334\u001b[0;31m                 \u001b[0;32mreturn\u001b[0m \u001b[0mprinter\u001b[0m\u001b[0;34m(\u001b[0m\u001b[0mobj\u001b[0m\u001b[0;34m)\u001b[0m\u001b[0;34m\u001b[0m\u001b[0;34m\u001b[0m\u001b[0m\n\u001b[0m\u001b[1;32m    335\u001b[0m             \u001b[0;31m# Finally look for special method names\u001b[0m\u001b[0;34m\u001b[0m\u001b[0;34m\u001b[0m\u001b[0;34m\u001b[0m\u001b[0m\n\u001b[1;32m    336\u001b[0m             \u001b[0mmethod\u001b[0m \u001b[0;34m=\u001b[0m \u001b[0mget_real_method\u001b[0m\u001b[0;34m(\u001b[0m\u001b[0mobj\u001b[0m\u001b[0;34m,\u001b[0m \u001b[0mself\u001b[0m\u001b[0;34m.\u001b[0m\u001b[0mprint_method\u001b[0m\u001b[0;34m)\u001b[0m\u001b[0;34m\u001b[0m\u001b[0;34m\u001b[0m\u001b[0m\n",
            "\u001b[0;32m/usr/local/lib/python3.7/dist-packages/IPython/core/pylabtools.py\u001b[0m in \u001b[0;36m<lambda>\u001b[0;34m(fig)\u001b[0m\n\u001b[1;32m    239\u001b[0m \u001b[0;34m\u001b[0m\u001b[0m\n\u001b[1;32m    240\u001b[0m     \u001b[0;32mif\u001b[0m \u001b[0;34m'png'\u001b[0m \u001b[0;32min\u001b[0m \u001b[0mformats\u001b[0m\u001b[0;34m:\u001b[0m\u001b[0;34m\u001b[0m\u001b[0;34m\u001b[0m\u001b[0m\n\u001b[0;32m--> 241\u001b[0;31m         \u001b[0mpng_formatter\u001b[0m\u001b[0;34m.\u001b[0m\u001b[0mfor_type\u001b[0m\u001b[0;34m(\u001b[0m\u001b[0mFigure\u001b[0m\u001b[0;34m,\u001b[0m \u001b[0;32mlambda\u001b[0m \u001b[0mfig\u001b[0m\u001b[0;34m:\u001b[0m \u001b[0mprint_figure\u001b[0m\u001b[0;34m(\u001b[0m\u001b[0mfig\u001b[0m\u001b[0;34m,\u001b[0m \u001b[0;34m'png'\u001b[0m\u001b[0;34m,\u001b[0m \u001b[0;34m**\u001b[0m\u001b[0mkwargs\u001b[0m\u001b[0;34m)\u001b[0m\u001b[0;34m)\u001b[0m\u001b[0;34m\u001b[0m\u001b[0;34m\u001b[0m\u001b[0m\n\u001b[0m\u001b[1;32m    242\u001b[0m     \u001b[0;32mif\u001b[0m \u001b[0;34m'retina'\u001b[0m \u001b[0;32min\u001b[0m \u001b[0mformats\u001b[0m \u001b[0;32mor\u001b[0m \u001b[0;34m'png2x'\u001b[0m \u001b[0;32min\u001b[0m \u001b[0mformats\u001b[0m\u001b[0;34m:\u001b[0m\u001b[0;34m\u001b[0m\u001b[0;34m\u001b[0m\u001b[0m\n\u001b[1;32m    243\u001b[0m         \u001b[0mpng_formatter\u001b[0m\u001b[0;34m.\u001b[0m\u001b[0mfor_type\u001b[0m\u001b[0;34m(\u001b[0m\u001b[0mFigure\u001b[0m\u001b[0;34m,\u001b[0m \u001b[0;32mlambda\u001b[0m \u001b[0mfig\u001b[0m\u001b[0;34m:\u001b[0m \u001b[0mretina_figure\u001b[0m\u001b[0;34m(\u001b[0m\u001b[0mfig\u001b[0m\u001b[0;34m,\u001b[0m \u001b[0;34m**\u001b[0m\u001b[0mkwargs\u001b[0m\u001b[0;34m)\u001b[0m\u001b[0;34m)\u001b[0m\u001b[0;34m\u001b[0m\u001b[0;34m\u001b[0m\u001b[0m\n",
            "\u001b[0;32m/usr/local/lib/python3.7/dist-packages/IPython/core/pylabtools.py\u001b[0m in \u001b[0;36mprint_figure\u001b[0;34m(fig, fmt, bbox_inches, **kwargs)\u001b[0m\n\u001b[1;32m    123\u001b[0m \u001b[0;34m\u001b[0m\u001b[0m\n\u001b[1;32m    124\u001b[0m     \u001b[0mbytes_io\u001b[0m \u001b[0;34m=\u001b[0m \u001b[0mBytesIO\u001b[0m\u001b[0;34m(\u001b[0m\u001b[0;34m)\u001b[0m\u001b[0;34m\u001b[0m\u001b[0;34m\u001b[0m\u001b[0m\n\u001b[0;32m--> 125\u001b[0;31m     \u001b[0mfig\u001b[0m\u001b[0;34m.\u001b[0m\u001b[0mcanvas\u001b[0m\u001b[0;34m.\u001b[0m\u001b[0mprint_figure\u001b[0m\u001b[0;34m(\u001b[0m\u001b[0mbytes_io\u001b[0m\u001b[0;34m,\u001b[0m \u001b[0;34m**\u001b[0m\u001b[0mkw\u001b[0m\u001b[0;34m)\u001b[0m\u001b[0;34m\u001b[0m\u001b[0;34m\u001b[0m\u001b[0m\n\u001b[0m\u001b[1;32m    126\u001b[0m     \u001b[0mdata\u001b[0m \u001b[0;34m=\u001b[0m \u001b[0mbytes_io\u001b[0m\u001b[0;34m.\u001b[0m\u001b[0mgetvalue\u001b[0m\u001b[0;34m(\u001b[0m\u001b[0;34m)\u001b[0m\u001b[0;34m\u001b[0m\u001b[0;34m\u001b[0m\u001b[0m\n\u001b[1;32m    127\u001b[0m     \u001b[0;32mif\u001b[0m \u001b[0mfmt\u001b[0m \u001b[0;34m==\u001b[0m \u001b[0;34m'svg'\u001b[0m\u001b[0;34m:\u001b[0m\u001b[0;34m\u001b[0m\u001b[0;34m\u001b[0m\u001b[0m\n",
            "\u001b[0;32m/usr/local/lib/python3.7/dist-packages/matplotlib/backend_bases.py\u001b[0m in \u001b[0;36mprint_figure\u001b[0;34m(self, filename, dpi, facecolor, edgecolor, orientation, format, bbox_inches, **kwargs)\u001b[0m\n\u001b[1;32m   2124\u001b[0m                     \u001b[0morientation\u001b[0m\u001b[0;34m=\u001b[0m\u001b[0morientation\u001b[0m\u001b[0;34m,\u001b[0m\u001b[0;34m\u001b[0m\u001b[0;34m\u001b[0m\u001b[0m\n\u001b[1;32m   2125\u001b[0m                     \u001b[0mbbox_inches_restore\u001b[0m\u001b[0;34m=\u001b[0m\u001b[0m_bbox_inches_restore\u001b[0m\u001b[0;34m,\u001b[0m\u001b[0;34m\u001b[0m\u001b[0;34m\u001b[0m\u001b[0m\n\u001b[0;32m-> 2126\u001b[0;31m                     **kwargs)\n\u001b[0m\u001b[1;32m   2127\u001b[0m             \u001b[0;32mfinally\u001b[0m\u001b[0;34m:\u001b[0m\u001b[0;34m\u001b[0m\u001b[0;34m\u001b[0m\u001b[0m\n\u001b[1;32m   2128\u001b[0m                 \u001b[0;32mif\u001b[0m \u001b[0mbbox_inches\u001b[0m \u001b[0;32mand\u001b[0m \u001b[0mrestore_bbox\u001b[0m\u001b[0;34m:\u001b[0m\u001b[0;34m\u001b[0m\u001b[0;34m\u001b[0m\u001b[0m\n",
            "\u001b[0;32m/usr/local/lib/python3.7/dist-packages/matplotlib/backends/backend_agg.py\u001b[0m in \u001b[0;36mprint_png\u001b[0;34m(self, filename_or_obj, metadata, pil_kwargs, *args, **kwargs)\u001b[0m\n\u001b[1;32m    512\u001b[0m         }\n\u001b[1;32m    513\u001b[0m \u001b[0;34m\u001b[0m\u001b[0m\n\u001b[0;32m--> 514\u001b[0;31m         \u001b[0mFigureCanvasAgg\u001b[0m\u001b[0;34m.\u001b[0m\u001b[0mdraw\u001b[0m\u001b[0;34m(\u001b[0m\u001b[0mself\u001b[0m\u001b[0;34m)\u001b[0m\u001b[0;34m\u001b[0m\u001b[0;34m\u001b[0m\u001b[0m\n\u001b[0m\u001b[1;32m    515\u001b[0m         \u001b[0;32mif\u001b[0m \u001b[0mpil_kwargs\u001b[0m \u001b[0;32mis\u001b[0m \u001b[0;32mnot\u001b[0m \u001b[0;32mNone\u001b[0m\u001b[0;34m:\u001b[0m\u001b[0;34m\u001b[0m\u001b[0;34m\u001b[0m\u001b[0m\n\u001b[1;32m    516\u001b[0m             \u001b[0;32mfrom\u001b[0m \u001b[0mPIL\u001b[0m \u001b[0;32mimport\u001b[0m \u001b[0mImage\u001b[0m\u001b[0;34m\u001b[0m\u001b[0;34m\u001b[0m\u001b[0m\n",
            "\u001b[0;32m/usr/local/lib/python3.7/dist-packages/matplotlib/backends/backend_agg.py\u001b[0m in \u001b[0;36mdraw\u001b[0;34m(self)\u001b[0m\n\u001b[1;32m    386\u001b[0m         \u001b[0mDraw\u001b[0m \u001b[0mthe\u001b[0m \u001b[0mfigure\u001b[0m \u001b[0musing\u001b[0m \u001b[0mthe\u001b[0m \u001b[0mrenderer\u001b[0m\u001b[0;34m.\u001b[0m\u001b[0;34m\u001b[0m\u001b[0;34m\u001b[0m\u001b[0m\n\u001b[1;32m    387\u001b[0m         \"\"\"\n\u001b[0;32m--> 388\u001b[0;31m         \u001b[0mself\u001b[0m\u001b[0;34m.\u001b[0m\u001b[0mrenderer\u001b[0m \u001b[0;34m=\u001b[0m \u001b[0mself\u001b[0m\u001b[0;34m.\u001b[0m\u001b[0mget_renderer\u001b[0m\u001b[0;34m(\u001b[0m\u001b[0mcleared\u001b[0m\u001b[0;34m=\u001b[0m\u001b[0;32mTrue\u001b[0m\u001b[0;34m)\u001b[0m\u001b[0;34m\u001b[0m\u001b[0;34m\u001b[0m\u001b[0m\n\u001b[0m\u001b[1;32m    389\u001b[0m         \u001b[0;31m# Acquire a lock on the shared font cache.\u001b[0m\u001b[0;34m\u001b[0m\u001b[0;34m\u001b[0m\u001b[0;34m\u001b[0m\u001b[0m\n\u001b[1;32m    390\u001b[0m         \u001b[0;32mwith\u001b[0m \u001b[0mRendererAgg\u001b[0m\u001b[0;34m.\u001b[0m\u001b[0mlock\u001b[0m\u001b[0;34m,\u001b[0m\u001b[0;31m \u001b[0m\u001b[0;31m\\\u001b[0m\u001b[0;34m\u001b[0m\u001b[0;34m\u001b[0m\u001b[0m\n",
            "\u001b[0;32m/usr/local/lib/python3.7/dist-packages/matplotlib/backends/backend_agg.py\u001b[0m in \u001b[0;36mget_renderer\u001b[0;34m(self, cleared)\u001b[0m\n\u001b[1;32m    402\u001b[0m                           and getattr(self, \"_lastKey\", None) == key)\n\u001b[1;32m    403\u001b[0m         \u001b[0;32mif\u001b[0m \u001b[0;32mnot\u001b[0m \u001b[0mreuse_renderer\u001b[0m\u001b[0;34m:\u001b[0m\u001b[0;34m\u001b[0m\u001b[0;34m\u001b[0m\u001b[0m\n\u001b[0;32m--> 404\u001b[0;31m             \u001b[0mself\u001b[0m\u001b[0;34m.\u001b[0m\u001b[0mrenderer\u001b[0m \u001b[0;34m=\u001b[0m \u001b[0mRendererAgg\u001b[0m\u001b[0;34m(\u001b[0m\u001b[0mw\u001b[0m\u001b[0;34m,\u001b[0m \u001b[0mh\u001b[0m\u001b[0;34m,\u001b[0m \u001b[0mself\u001b[0m\u001b[0;34m.\u001b[0m\u001b[0mfigure\u001b[0m\u001b[0;34m.\u001b[0m\u001b[0mdpi\u001b[0m\u001b[0;34m)\u001b[0m\u001b[0;34m\u001b[0m\u001b[0;34m\u001b[0m\u001b[0m\n\u001b[0m\u001b[1;32m    405\u001b[0m             \u001b[0mself\u001b[0m\u001b[0;34m.\u001b[0m\u001b[0m_lastKey\u001b[0m \u001b[0;34m=\u001b[0m \u001b[0mkey\u001b[0m\u001b[0;34m\u001b[0m\u001b[0;34m\u001b[0m\u001b[0m\n\u001b[1;32m    406\u001b[0m         \u001b[0;32melif\u001b[0m \u001b[0mcleared\u001b[0m\u001b[0;34m:\u001b[0m\u001b[0;34m\u001b[0m\u001b[0;34m\u001b[0m\u001b[0m\n",
            "\u001b[0;32m/usr/local/lib/python3.7/dist-packages/matplotlib/backends/backend_agg.py\u001b[0m in \u001b[0;36m__init__\u001b[0;34m(self, width, height, dpi)\u001b[0m\n\u001b[1;32m     90\u001b[0m         \u001b[0mself\u001b[0m\u001b[0;34m.\u001b[0m\u001b[0mwidth\u001b[0m \u001b[0;34m=\u001b[0m \u001b[0mwidth\u001b[0m\u001b[0;34m\u001b[0m\u001b[0;34m\u001b[0m\u001b[0m\n\u001b[1;32m     91\u001b[0m         \u001b[0mself\u001b[0m\u001b[0;34m.\u001b[0m\u001b[0mheight\u001b[0m \u001b[0;34m=\u001b[0m \u001b[0mheight\u001b[0m\u001b[0;34m\u001b[0m\u001b[0;34m\u001b[0m\u001b[0m\n\u001b[0;32m---> 92\u001b[0;31m         \u001b[0mself\u001b[0m\u001b[0;34m.\u001b[0m\u001b[0m_renderer\u001b[0m \u001b[0;34m=\u001b[0m \u001b[0m_RendererAgg\u001b[0m\u001b[0;34m(\u001b[0m\u001b[0mint\u001b[0m\u001b[0;34m(\u001b[0m\u001b[0mwidth\u001b[0m\u001b[0;34m)\u001b[0m\u001b[0;34m,\u001b[0m \u001b[0mint\u001b[0m\u001b[0;34m(\u001b[0m\u001b[0mheight\u001b[0m\u001b[0;34m)\u001b[0m\u001b[0;34m,\u001b[0m \u001b[0mdpi\u001b[0m\u001b[0;34m)\u001b[0m\u001b[0;34m\u001b[0m\u001b[0;34m\u001b[0m\u001b[0m\n\u001b[0m\u001b[1;32m     93\u001b[0m         \u001b[0mself\u001b[0m\u001b[0;34m.\u001b[0m\u001b[0m_filter_renderers\u001b[0m \u001b[0;34m=\u001b[0m \u001b[0;34m[\u001b[0m\u001b[0;34m]\u001b[0m\u001b[0;34m\u001b[0m\u001b[0;34m\u001b[0m\u001b[0m\n\u001b[1;32m     94\u001b[0m \u001b[0;34m\u001b[0m\u001b[0m\n",
            "\u001b[0;31mValueError\u001b[0m: Image size of 411x282790 pixels is too large. It must be less than 2^16 in each direction."
          ]
        },
        {
          "data": {
            "text/plain": [
              "<Figure size 432x288 with 1 Axes>"
            ]
          },
          "metadata": {},
          "output_type": "display_data"
        },
        {
          "name": "stdout",
          "output_type": "stream",
          "text": [
            "SNR : [ 2  4  6  8 10]\n",
            "bit error for user 1 at testing : [0.    0.125 0.    0.125 0.   ]\n",
            "bit error for user 2 at testing : [0.375 0.    0.25  0.625 0.5  ]\n"
          ]
        }
      ],
      "source": [
        "error1 = np.mean(ERROR_user1, axis=1)       # axis = 1 means horizontal joining \n",
        "error2 = np.mean((ERROR_user2), axis=1)\n",
        "# print(error1)\n",
        "# print(error2)\n",
        "plt.figure()\n",
        "plt.semilogy(SNR_db, error1, ls='--', marker='o', label='user1')        # where \"ls\" = line style\n",
        "plt.semilogy(SNR_db, error2, ls='--', marker='+', label='user2')\n",
        "for i in range(5):\n",
        "  label1 = \"{:.2f}\".format(error1[i])\n",
        "  label2 = \"{:.2f}\".format(error2[i])\n",
        "  plt.annotate(label1,(SNR_db[i],ERROR_user1[i]))\n",
        "  plt.annotate(label2,(SNR_db[i],ERROR_user2[i]))\n",
        "plt.grid()\n",
        "plt.legend()\n",
        "plt.xlim(pow(10, 0), pow(11, 1))\n",
        "plt.xlabel('SNR')\n",
        "plt.ylabel('SER')\n",
        "plt.title('SER of user2 in MIMO_NOMA BPSK_DNN')\n",
        "plt.savefig('SER_MIMO_NOMA_DNN_BPSK')\n",
        "plt.show()\n",
        "print(\"SNR : {}\".format(SNR_db))\n",
        "print(\"bit error for user 1 at testing : {}\".format(error1))\n",
        "print(\"bit error for user 2 at testing : {}\".format(error2))"
      ]
    }
  ],
  "metadata": {
    "colab": {
      "collapsed_sections": [],
      "name": "2-bit-system_DNN.ipynb",
      "provenance": [],
      "authorship_tag": "ABX9TyPp4/T+OBxahXhxyXCKbGXG",
      "include_colab_link": true
    },
    "kernelspec": {
      "display_name": "Python 3",
      "name": "python3"
    },
    "language_info": {
      "name": "python"
    }
  },
  "nbformat": 4,
  "nbformat_minor": 0
}